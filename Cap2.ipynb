{
 "cells": [
  {
   "cell_type": "markdown",
   "metadata": {},
   "source": [
    "# Capítulo 2: Time Series"
   ]
  },
  {
   "cell_type": "markdown",
   "metadata": {},
   "source": [
    "### Problema 1"
   ]
  },
  {
   "cell_type": "markdown",
   "metadata": {},
   "source": [
    "a) La función de verosimilitud vendría dada por:\n",
    "$$\\mathcal{L} = \\pi_{0,1} \\times P_{12} \\times P_{21} \\times P_{12} \\times P_{21}$$\n",
    "Reemplazando se obtiene:\n",
    "$$\\mathcal{L} = 0.5 \\times 0.1 \\times 0.3 \\times 0.1 \\times 0.3$$"
   ]
  },
  {
   "cell_type": "code",
   "execution_count": 1,
   "metadata": {},
   "outputs": [
    {
     "data": {
      "text/plain": [
       "0.00045"
      ]
     },
     "execution_count": 1,
     "metadata": {},
     "output_type": "execute_result"
    }
   ],
   "source": [
    "L = 0.5 * 0.1 * 0.3 * 0.1 * 0.3;\n",
    "L"
   ]
  },
  {
   "cell_type": "markdown",
   "metadata": {},
   "source": [
    "b) La función de verosimilitud vendría dada por:\n",
    "$$\\mathcal{L} = \\pi_{0,1} \\times P_{11} \\times P_{11} \\times P_{11} \\times P_{11}$$\n",
    "Reemplazando se obtiene:\n",
    "$$\\mathcal{L} = 0.5 \\times 0.9^4$$"
   ]
  },
  {
   "cell_type": "code",
   "execution_count": 2,
   "metadata": {},
   "outputs": [
    {
     "data": {
      "text/plain": [
       "0.32805000000000006"
      ]
     },
     "execution_count": 2,
     "metadata": {},
     "output_type": "execute_result"
    }
   ],
   "source": [
    "L = 0.5 * 0.9^4;\n",
    "L"
   ]
  },
  {
   "cell_type": "markdown",
   "metadata": {},
   "source": [
    "c) La función de verosimilitud vendría dada por:\n",
    "$$\\mathcal{L} = \\pi_{0,2} \\times P_{22} \\times P_{22} \\times P_{22} \\times P_{22}$$\n",
    "Reemplazando se obtiene:\n",
    "$$\\mathcal{L} = 0.5 \\times 0.7^4$$"
   ]
  },
  {
   "cell_type": "code",
   "execution_count": 3,
   "metadata": {},
   "outputs": [
    {
     "data": {
      "text/plain": [
       "0.12004999999999996"
      ]
     },
     "execution_count": 3,
     "metadata": {},
     "output_type": "execute_result"
    }
   ],
   "source": [
    "L = 0.5 * 0.7^4;\n",
    "L"
   ]
  },
  {
   "cell_type": "markdown",
   "metadata": {},
   "source": [
    "### Problema 2"
   ]
  },
  {
   "cell_type": "markdown",
   "metadata": {},
   "source": [
    "Podemos tratar de averiguar cuál es la expresión que representa $E[y^2_{t + 1} | x_t]$. En primer lugar tenemos:\n",
    "$$E[y^2_{t + 1} | x_t = e_1] = (\\bar{y}'e_1)^2 P_{11} + (\\bar{y}'e_2)^2 P_{12}$$\n",
    "Luego tenemos:\n",
    "$$E[y^2_{t + 1} | x_t = e_2] = (\\bar{y}'e_1)^2 P_{21} + (\\bar{y}'e_2)^2 P_{22}$$"
   ]
  },
  {
   "cell_type": "markdown",
   "metadata": {},
   "source": [
    "Entonces tendríamos que:\n",
    "$$E[y^2_{t + 1} | x_t] = P \\left[\\begin{array}{c} 1 \\\\\n",
    "                                                25\\end{array}\\right]$$"
   ]
  },
  {
   "cell_type": "markdown",
   "metadata": {},
   "source": [
    "De manera análoga tendríamos que:\n",
    "$$E[y_{t + 1} | x_t] = P \\left[\\begin{array}{c} 1 \\\\\n",
    "                                                5 \\end{array}\\right]$$"
   ]
  },
  {
   "cell_type": "markdown",
   "metadata": {},
   "source": [
    "Entonces se tendría el sistema:\n",
    "$$\\left[\\begin{array}{cc} 1.8 & 5.8 \\\\\n",
    "                          3.4 & 15.4 \\end{array}\\right] = P \\left[\\begin{array}{cc} 1 & 1 \\\\\n",
    "                                                                                    5 & 25\\end{array}\\right]$$\n",
    "$$J = Ph$$"
   ]
  },
  {
   "cell_type": "markdown",
   "metadata": {},
   "source": [
    "La solución es única si el rango de la matriz $h'$ es completo o sea 2."
   ]
  },
  {
   "cell_type": "code",
   "execution_count": 4,
   "metadata": {},
   "outputs": [],
   "source": [
    "using LinearAlgebra"
   ]
  },
  {
   "cell_type": "code",
   "execution_count": 5,
   "metadata": {},
   "outputs": [],
   "source": [
    "h = [1 1; 5 25]; J = [1.8 5.8; 3.4 15.4];"
   ]
  },
  {
   "cell_type": "code",
   "execution_count": 6,
   "metadata": {},
   "outputs": [
    {
     "data": {
      "text/plain": [
       "2"
      ]
     },
     "execution_count": 6,
     "metadata": {},
     "output_type": "execute_result"
    }
   ],
   "source": [
    "rank(h')"
   ]
  },
  {
   "cell_type": "markdown",
   "metadata": {},
   "source": [
    "Entonces la matrix $P$ es única. La solución viene dada por:"
   ]
  },
  {
   "cell_type": "code",
   "execution_count": 7,
   "metadata": {},
   "outputs": [
    {
     "data": {
      "text/plain": [
       "2×2 Adjoint{Float64,Array{Float64,2}}:\n",
       " 0.8  0.2\n",
       " 0.4  0.6"
      ]
     },
     "execution_count": 7,
     "metadata": {},
     "output_type": "execute_result"
    }
   ],
   "source": [
    "X = h' \\ J';\n",
    "P = X'"
   ]
  },
  {
   "cell_type": "markdown",
   "metadata": {},
   "source": [
    "### Problema 3"
   ]
  },
  {
   "cell_type": "markdown",
   "metadata": {},
   "source": [
    "a) Sabemos que:\n",
    "$$v_i = E\\left[\\sum^\\infty_{t = 0} \\beta^t u(c_t) | x_0 = \\bar{e}_i\\right] = \\sum^\\infty_{t = 0} E[\\beta^t u(c_t) | x_0 = \\bar{e}_i]$$"
   ]
  },
  {
   "cell_type": "markdown",
   "metadata": {},
   "source": [
    "Por lo tanto, nos interesa saber que expresión representa $E[\\beta^t u(c_t) | x_0 = \\bar{e}_i]$. Tenemos que:\n",
    "$$E[\\beta^t u(c_t) | x_0 = \\bar{e}_i] = \\beta^t u(\\bar{c}'\\bar{e}_1)P^{(t)}_{i1} + \\beta^t u(\\bar{c}'\\bar{e}_2)P^{(t)}_{i2} + \\dots +\\beta^t u(\\bar{c}'\\bar{e}_n)P^{(t)}_{in}$$ "
   ]
  },
  {
   "cell_type": "markdown",
   "metadata": {},
   "source": [
    "Entonces:\n",
    "$$E[\\beta^t u(c_t) | x_0 = \\bar{e}_i] = \\beta^t u_1 P^{(t)}_{i1} + \\beta^t u_2 P^{(t)}_{i2} + \\dots + \\beta^t u_n P^{(t)}_{in}$$\n",
    "Por lo que:\n",
    "$$E[\\beta^t u(c_t) | x_0] = \\beta^t P^t u$$ "
   ]
  },
  {
   "cell_type": "markdown",
   "metadata": {},
   "source": [
    "Con esto se tiene que:\n",
    "$$v = \\sum^\\infty_{t = 0} E[\\beta^t u(c_t) | x_0] = \\sum^\\infty_{t = 0} \\beta^t P^t u = (I - \\beta P)^{-1}u$$"
   ]
  },
  {
   "cell_type": "markdown",
   "metadata": {},
   "source": [
    "En cuanto a $V$ tenemos que:\n",
    "$$V = E[v] = \\pi'_0 v = \\sum^n_{i = 1} \\pi_{0,i} v_i$$"
   ]
  },
  {
   "cell_type": "markdown",
   "metadata": {},
   "source": [
    "b) Construyamos funciones para: utilidad, $v$ y $V$:"
   ]
  },
  {
   "cell_type": "code",
   "execution_count": 14,
   "metadata": {},
   "outputs": [
    {
     "data": {
      "text/plain": [
       "u (generic function with 3 methods)"
      ]
     },
     "execution_count": 14,
     "metadata": {},
     "output_type": "execute_result"
    }
   ],
   "source": [
    "u(c, γ) = c^(1 - γ) / (1 - γ) "
   ]
  },
  {
   "cell_type": "code",
   "execution_count": 15,
   "metadata": {},
   "outputs": [
    {
     "data": {
      "text/plain": [
       "v (generic function with 2 methods)"
      ]
     },
     "execution_count": 15,
     "metadata": {},
     "output_type": "execute_result"
    }
   ],
   "source": [
    "v(P, β, u) = (I - β * P)^(-1) * u"
   ]
  },
  {
   "cell_type": "code",
   "execution_count": 22,
   "metadata": {},
   "outputs": [
    {
     "data": {
      "text/plain": [
       "V (generic function with 1 method)"
      ]
     },
     "execution_count": 22,
     "metadata": {},
     "output_type": "execute_result"
    }
   ],
   "source": [
    "V(π_0, v) = π_0' * v"
   ]
  },
  {
   "cell_type": "markdown",
   "metadata": {},
   "source": [
    "Construyamos el vector de utilidades en función del vector de consumo $\\bar{c} = \\left[\\begin{array}{c} 1 \\\\\n",
    "                                                                                                        5\\end{array}\\right]$ y $\\gamma = 2.5$"
   ]
  },
  {
   "cell_type": "code",
   "execution_count": 18,
   "metadata": {},
   "outputs": [
    {
     "data": {
      "text/plain": [
       "2-element Array{Float64,1}:\n",
       " -0.6666666666666666\n",
       " -0.05962847939999439"
      ]
     },
     "execution_count": 18,
     "metadata": {},
     "output_type": "execute_result"
    }
   ],
   "source": [
    "c = [1, 5]; γ = 2.5;\n",
    "util = u.(c, γ)"
   ]
  },
  {
   "cell_type": "markdown",
   "metadata": {},
   "source": [
    "Consideremos el primer proceso:"
   ]
  },
  {
   "cell_type": "code",
   "execution_count": 21,
   "metadata": {},
   "outputs": [],
   "source": [
    "P = [1 0; 0 1]; π_0 = [0.5, 0.5];"
   ]
  },
  {
   "cell_type": "code",
   "execution_count": 23,
   "metadata": {},
   "outputs": [
    {
     "data": {
      "text/plain": [
       "-7.262951460666605"
      ]
     },
     "execution_count": 23,
     "metadata": {},
     "output_type": "execute_result"
    }
   ],
   "source": [
    "v_val = v(P, 0.95, util);\n",
    "V_val = V(π_0, v_val)"
   ]
  },
  {
   "cell_type": "markdown",
   "metadata": {},
   "source": [
    "Consideremos el segundo proceso:"
   ]
  },
  {
   "cell_type": "code",
   "execution_count": 24,
   "metadata": {},
   "outputs": [],
   "source": [
    "P = [0.5 0.5; 0.5 0.5]; π_0 = [0.5, 0.5];"
   ]
  },
  {
   "cell_type": "code",
   "execution_count": 25,
   "metadata": {},
   "outputs": [
    {
     "data": {
      "text/plain": [
       "-7.262951460666601"
      ]
     },
     "execution_count": 25,
     "metadata": {},
     "output_type": "execute_result"
    }
   ],
   "source": [
    "v_val = v(P, 0.95, util);\n",
    "V_val = V(π_0, v_val)"
   ]
  },
  {
   "cell_type": "markdown",
   "metadata": {},
   "source": [
    "Ambos procesos arrojan valores identicos $V_1 = V_2 = -7.26$ por lo que el consumidor es indiferente. Ahora analizemos el caso de $\\gamma = 4$."
   ]
  },
  {
   "cell_type": "code",
   "execution_count": 27,
   "metadata": {},
   "outputs": [
    {
     "data": {
      "text/plain": [
       "2-element Array{Float64,1}:\n",
       " -0.3333333333333333\n",
       " -0.0026666666666666666"
      ]
     },
     "execution_count": 27,
     "metadata": {},
     "output_type": "execute_result"
    }
   ],
   "source": [
    "util = u.(c, 4.0)"
   ]
  },
  {
   "cell_type": "markdown",
   "metadata": {},
   "source": [
    "Consideremos el primer proceso:"
   ]
  },
  {
   "cell_type": "code",
   "execution_count": 28,
   "metadata": {},
   "outputs": [
    {
     "data": {
      "text/plain": [
       "-3.359999999999997"
      ]
     },
     "execution_count": 28,
     "metadata": {},
     "output_type": "execute_result"
    }
   ],
   "source": [
    "P = [1 0; 0 1]; π_0 = [0.5, 0.5];\n",
    "v_val = v(P, 0.95, util);\n",
    "V_val = V(π_0, v_val)"
   ]
  },
  {
   "cell_type": "markdown",
   "metadata": {},
   "source": [
    "Ahora el segundo proceso:"
   ]
  },
  {
   "cell_type": "code",
   "execution_count": 29,
   "metadata": {},
   "outputs": [
    {
     "data": {
      "text/plain": [
       "-3.359999999999996"
      ]
     },
     "execution_count": 29,
     "metadata": {},
     "output_type": "execute_result"
    }
   ],
   "source": [
    "P = [0.5 0.5; 0.5 0.5]; π_0 = [0.5, 0.5];\n",
    "v_val = v(P, 0.95, util);\n",
    "V_val = V(π_0, v_val)"
   ]
  },
  {
   "cell_type": "markdown",
   "metadata": {},
   "source": [
    "Nuevamente ambos procesos arrojan valores idénticos $V_1 = V_2 = -3.36$ por lo que el consumidor es indiferente."
   ]
  },
  {
   "cell_type": "markdown",
   "metadata": {},
   "source": [
    "c) Para el primer proceso la función de verosimilitud sería:\n",
    "$$Prob(data | M_1) = \\pi_{0,1} \\times P^9_{11} = 0.5 \\times 1^9$$"
   ]
  },
  {
   "cell_type": "code",
   "execution_count": 30,
   "metadata": {},
   "outputs": [
    {
     "data": {
      "text/plain": [
       "0.5"
      ]
     },
     "execution_count": 30,
     "metadata": {},
     "output_type": "execute_result"
    }
   ],
   "source": [
    "L_1 = 0.5 * 1^9"
   ]
  },
  {
   "cell_type": "markdown",
   "metadata": {},
   "source": [
    "Para el segundo proceso la función de verosimilitud sería:\n",
    "$$Prob(data | M_2) = \\pi_{0,1} \\times P^9_{11} = 0.5 \\times 0.5^9 = 0.5^{10}$$"
   ]
  },
  {
   "cell_type": "code",
   "execution_count": 31,
   "metadata": {},
   "outputs": [
    {
     "data": {
      "text/plain": [
       "0.0009765625"
      ]
     },
     "execution_count": 31,
     "metadata": {},
     "output_type": "execute_result"
    }
   ],
   "source": [
    "L_2 = 0.5^(10)"
   ]
  },
  {
   "cell_type": "markdown",
   "metadata": {},
   "source": [
    "d) Como las probabilidades iniciales de ambos modelos son idénticas tenemos que: $Prob(M_1) = Prob(M_2)$; por lo que:\n",
    "$$Prob(M_1 | data) = \\frac{Prob(data | M_1)}{Prob(data | M_1) + Prob(data | M_2)} = \\frac{0.5}{0.5 + 0.001}$$"
   ]
  },
  {
   "cell_type": "code",
   "execution_count": 32,
   "metadata": {},
   "outputs": [
    {
     "data": {
      "text/plain": [
       "0.9980506822612085"
      ]
     },
     "execution_count": 32,
     "metadata": {},
     "output_type": "execute_result"
    }
   ],
   "source": [
    "p1_n = L_1 / (L_1 + L_2)"
   ]
  },
  {
   "cell_type": "markdown",
   "metadata": {},
   "source": [
    "Para el caso del segundo proceso tenemos:\n",
    "$$Prob(M_2 | data) = \\frac{Prob(data | M_2)}{Prob(data | M_1) + Prob(data | M_2)} = \\frac{0.001}{0.5 + 0.001}$$"
   ]
  },
  {
   "cell_type": "code",
   "execution_count": 33,
   "metadata": {},
   "outputs": [
    {
     "data": {
      "text/plain": [
       "0.001949317738791423"
      ]
     },
     "execution_count": 33,
     "metadata": {},
     "output_type": "execute_result"
    }
   ],
   "source": [
    "p2_n = L_2 / (L_1 + L_2)"
   ]
  },
  {
   "cell_type": "markdown",
   "metadata": {},
   "source": [
    "e) Para la segunda muestra de datos, tenemos que:\n",
    "$$Prob(data | M_1) = \\pi_{0,1} \\times P^4_{12} \\times P^3_{21} \\times P^2_{22} = 0.5 \\times 0^4 \\times 0^3 \\times 1^2$$ "
   ]
  },
  {
   "cell_type": "code",
   "execution_count": 34,
   "metadata": {},
   "outputs": [
    {
     "data": {
      "text/plain": [
       "0.0"
      ]
     },
     "execution_count": 34,
     "metadata": {},
     "output_type": "execute_result"
    }
   ],
   "source": [
    "L_1 = 0.5 * 0^4 * 0^3 * 1^2"
   ]
  },
  {
   "cell_type": "markdown",
   "metadata": {},
   "source": [
    "Para el segundo proceso tenemos:\n",
    "$$Prob(data | M_2) = \\pi_{0,1} \\times P^4_{12} \\times P^3_{21} \\times P^2_{22} = 0.5^{10}$$"
   ]
  },
  {
   "cell_type": "code",
   "execution_count": 35,
   "metadata": {},
   "outputs": [
    {
     "data": {
      "text/plain": [
       "0.0009765625"
      ]
     },
     "execution_count": 35,
     "metadata": {},
     "output_type": "execute_result"
    }
   ],
   "source": [
    "L_2 = 0.5^(10)"
   ]
  },
  {
   "cell_type": "markdown",
   "metadata": {},
   "source": [
    "Tendríamos entonces que:\n",
    "$$Prob(M_1 | data) = \\frac{0}{0 + 0.001}$$"
   ]
  },
  {
   "cell_type": "code",
   "execution_count": 37,
   "metadata": {},
   "outputs": [
    {
     "data": {
      "text/plain": [
       "0.0"
      ]
     },
     "execution_count": 37,
     "metadata": {},
     "output_type": "execute_result"
    }
   ],
   "source": [
    "p1_n = L_1 / (L_1 + L_2)"
   ]
  },
  {
   "cell_type": "markdown",
   "metadata": {},
   "source": [
    "Para el caso del segundo modelo:\n",
    "$$Prob(M_2 | data) = \\frac{0.001}{0 + 0.001}$$"
   ]
  },
  {
   "cell_type": "code",
   "execution_count": 38,
   "metadata": {},
   "outputs": [
    {
     "data": {
      "text/plain": [
       "1.0"
      ]
     },
     "execution_count": 38,
     "metadata": {},
     "output_type": "execute_result"
    }
   ],
   "source": [
    "p2_n = L_2 / (L_1 + L_2)"
   ]
  },
  {
   "cell_type": "markdown",
   "metadata": {},
   "source": [
    "### Problema 4"
   ]
  },
  {
   "cell_type": "code",
   "execution_count": null,
   "metadata": {},
   "outputs": [],
   "source": []
  }
 ],
 "metadata": {
  "kernelspec": {
   "display_name": "Julia 1.5.0",
   "language": "julia",
   "name": "julia-1.5"
  },
  "language_info": {
   "file_extension": ".jl",
   "mimetype": "application/julia",
   "name": "julia",
   "version": "1.5.0"
  }
 },
 "nbformat": 4,
 "nbformat_minor": 4
}
