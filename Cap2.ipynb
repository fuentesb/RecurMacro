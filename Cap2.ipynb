{
 "cells": [
  {
   "cell_type": "markdown",
   "metadata": {},
   "source": [
    "# Capítulo 2: Time Series"
   ]
  },
  {
   "cell_type": "markdown",
   "metadata": {},
   "source": [
    "### Problema 1"
   ]
  },
  {
   "cell_type": "markdown",
   "metadata": {},
   "source": [
    "1. La función de verosimilitud vendría dada por:\n",
    "$$\\mathcal{L} = \\pi_{0,1} \\times P_{12} \\times P_{21} \\times P_{12} \\times P_{21}$$\n",
    "Reemplazando se obtiene:\n",
    "$$\\mathcal{L} = 0.5 \\times 0.1 \\times 0.3 \\times 0.1 \\times 0.3$$"
   ]
  },
  {
   "cell_type": "code",
   "execution_count": 1,
   "metadata": {},
   "outputs": [
    {
     "data": {
      "text/plain": [
       "0.00045"
      ]
     },
     "execution_count": 1,
     "metadata": {},
     "output_type": "execute_result"
    }
   ],
   "source": [
    "L = 0.5 * 0.1 * 0.3 * 0.1 * 0.3;\n",
    "L"
   ]
  },
  {
   "cell_type": "markdown",
   "metadata": {},
   "source": [
    "2. La función de verosimilitud vendría dada por:\n",
    "$$\\mathcal{L} = \\pi_{0,1} \\times P_{11} \\times P_{11} \\times P_{11} \\times P_{11}$$\n",
    "Reemplazando se obtiene:\n",
    "$$\\mathcal{L} = 0.5 \\times 0.9^4$$"
   ]
  },
  {
   "cell_type": "code",
   "execution_count": 2,
   "metadata": {},
   "outputs": [
    {
     "data": {
      "text/plain": [
       "0.32805000000000006"
      ]
     },
     "execution_count": 2,
     "metadata": {},
     "output_type": "execute_result"
    }
   ],
   "source": [
    "L = 0.5 * 0.9^4;\n",
    "L"
   ]
  },
  {
   "cell_type": "markdown",
   "metadata": {},
   "source": [
    "3. La función de verosimilitud vendría dada por:\n",
    "$$\\mathcal{L} = \\pi_{0,2} \\times P_{22} \\times P_{22} \\times P_{22} \\times P_{22}$$\n",
    "Reemplazando se obtiene:\n",
    "$$\\mathcal{L} = 0.5 \\times 0.7^4$$"
   ]
  },
  {
   "cell_type": "code",
   "execution_count": 3,
   "metadata": {},
   "outputs": [
    {
     "data": {
      "text/plain": [
       "0.12004999999999996"
      ]
     },
     "execution_count": 3,
     "metadata": {},
     "output_type": "execute_result"
    }
   ],
   "source": [
    "L = 0.5 * 0.7^4;\n",
    "L"
   ]
  },
  {
   "cell_type": "markdown",
   "metadata": {},
   "source": [
    "### Problema 2"
   ]
  },
  {
   "cell_type": "markdown",
   "metadata": {},
   "source": [
    "Podemos tratar de averiguar cuál es la expresión que representa $E[y^2_{t + 1} | x_t]$. En primer lugar tenemos:\n",
    "$$E[y^2_{t + 1} | x_t = e_1] = (\\bar{y}'e_1)^2 P_{11} + (\\bar{y}'e_2)^2 P_{12}$$\n",
    "Luego tenemos:\n",
    "$$E[y^2_{t + 1} | x_t = e_2] = (\\bar{y}'e_1)^2 P_{21} + (\\bar{y}'e_2)^2 P_{22}$$"
   ]
  },
  {
   "cell_type": "markdown",
   "metadata": {},
   "source": [
    "Entonces tendríamos que:\n",
    "$$E[y^2_{t + 1} | x_t] = P \\left[\\begin{array}{c} 1 \\\\\n",
    "                                                25\\end{array}\\right]$$"
   ]
  },
  {
   "cell_type": "markdown",
   "metadata": {},
   "source": [
    "De manera análoga tendríamos que:\n",
    "$$E[y_{t + 1} | x_t] = P \\left[\\begin{array}{c} 1 \\\\\n",
    "                                                5 \\end{array}\\right]$$"
   ]
  },
  {
   "cell_type": "markdown",
   "metadata": {},
   "source": [
    "Entonces se tendría el sistema:\n",
    "$$\\left[\\begin{array}{cc} 1.8 & 5.8 \\\\\n",
    "                          3.4 & 15.4 \\end{array}\\right] = P \\left[\\begin{array}{cc} 1 & 1 \\\\\n",
    "                                                                                    5 & 25\\end{array}\\right]$$\n",
    "$$J = Ph$$"
   ]
  },
  {
   "cell_type": "markdown",
   "metadata": {},
   "source": [
    "La solución es única si el rango de la matriz $h'$ es completo o sea 2."
   ]
  },
  {
   "cell_type": "code",
   "execution_count": 4,
   "metadata": {},
   "outputs": [],
   "source": [
    "using LinearAlgebra"
   ]
  },
  {
   "cell_type": "code",
   "execution_count": 5,
   "metadata": {},
   "outputs": [],
   "source": [
    "h = [1 1; 5 25]; J = [1.8 5.8; 3.4 15.4];"
   ]
  },
  {
   "cell_type": "code",
   "execution_count": 6,
   "metadata": {},
   "outputs": [
    {
     "data": {
      "text/plain": [
       "2"
      ]
     },
     "execution_count": 6,
     "metadata": {},
     "output_type": "execute_result"
    }
   ],
   "source": [
    "rank(h')"
   ]
  },
  {
   "cell_type": "markdown",
   "metadata": {},
   "source": [
    "Entonces la matrix $P$ es única. La solución viene dada por:"
   ]
  },
  {
   "cell_type": "code",
   "execution_count": 7,
   "metadata": {},
   "outputs": [
    {
     "data": {
      "text/plain": [
       "2×2 Adjoint{Float64,Array{Float64,2}}:\n",
       " 0.8  0.2\n",
       " 0.4  0.6"
      ]
     },
     "execution_count": 7,
     "metadata": {},
     "output_type": "execute_result"
    }
   ],
   "source": [
    "X = h' \\ J';\n",
    "P = X'"
   ]
  },
  {
   "cell_type": "markdown",
   "metadata": {},
   "source": [
    "### Problema 3"
   ]
  },
  {
   "cell_type": "code",
   "execution_count": null,
   "metadata": {},
   "outputs": [],
   "source": []
  }
 ],
 "metadata": {
  "kernelspec": {
   "display_name": "Julia 1.5.0",
   "language": "julia",
   "name": "julia-1.5"
  },
  "language_info": {
   "file_extension": ".jl",
   "mimetype": "application/julia",
   "name": "julia",
   "version": "1.5.0"
  }
 },
 "nbformat": 4,
 "nbformat_minor": 4
}
