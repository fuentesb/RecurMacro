{
 "cells": [
  {
   "cell_type": "markdown",
   "metadata": {},
   "source": [
    "# Capítulo 2: Time Series"
   ]
  },
  {
   "cell_type": "markdown",
   "metadata": {},
   "source": [
    "### Problema 1"
   ]
  },
  {
   "cell_type": "markdown",
   "metadata": {},
   "source": [
    "1. La función de verosimilitud vendría dada por:\n",
    "$$\\mathcal{L} = \\pi_{0,1} \\times P_{12} \\times P_{21} \\times P_{12} \\times P_{21}$$\n",
    "Reemplazando se obtiene:\n",
    "$$\\mathcal{L} = 0.5 \\times 0.1 \\times 0.3 \\times 0.1 \\times 0.3$$"
   ]
  },
  {
   "cell_type": "code",
   "execution_count": 1,
   "metadata": {},
   "outputs": [
    {
     "data": {
      "text/plain": [
       "0.00045"
      ]
     },
     "execution_count": 1,
     "metadata": {},
     "output_type": "execute_result"
    }
   ],
   "source": [
    "L = 0.5 * 0.1 * 0.3 * 0.1 * 0.3;\n",
    "L"
   ]
  },
  {
   "cell_type": "markdown",
   "metadata": {},
   "source": [
    "2. La función de verosimilitud vendría dada por:\n",
    "$$\\mathcal{L} = \\pi_{0,1} \\times P_{11} \\times P_{11} \\times P_{11} \\times P_{11}$$\n",
    "Reemplazando se obtiene:\n",
    "$$\\mathcal{L} = 0.5 \\times 0.9^4$$"
   ]
  },
  {
   "cell_type": "code",
   "execution_count": 2,
   "metadata": {},
   "outputs": [
    {
     "data": {
      "text/plain": [
       "0.32805000000000006"
      ]
     },
     "execution_count": 2,
     "metadata": {},
     "output_type": "execute_result"
    }
   ],
   "source": [
    "L = 0.5 * 0.9^4;\n",
    "L"
   ]
  },
  {
   "cell_type": "markdown",
   "metadata": {},
   "source": [
    "3. La función de verosimilitud vendría dada por:\n",
    "$$\\mathcal{L} = \\pi_{0,2} \\times P_{22} \\times P_{22} \\times P_{22} \\times P_{22}$$\n",
    "Reemplazando se obtiene:\n",
    "$$\\mathcal{L} = 0.5 \\times 0.7^4$$"
   ]
  },
  {
   "cell_type": "code",
   "execution_count": 3,
   "metadata": {},
   "outputs": [
    {
     "data": {
      "text/plain": [
       "0.12004999999999996"
      ]
     },
     "execution_count": 3,
     "metadata": {},
     "output_type": "execute_result"
    }
   ],
   "source": [
    "L = 0.5 * 0.7^4;\n",
    "L"
   ]
  },
  {
   "cell_type": "code",
   "execution_count": null,
   "metadata": {},
   "outputs": [],
   "source": []
  }
 ],
 "metadata": {
  "kernelspec": {
   "display_name": "Julia 1.5.0",
   "language": "julia",
   "name": "julia-1.5"
  },
  "language_info": {
   "file_extension": ".jl",
   "mimetype": "application/julia",
   "name": "julia",
   "version": "1.5.0"
  }
 },
 "nbformat": 4,
 "nbformat_minor": 4
}
